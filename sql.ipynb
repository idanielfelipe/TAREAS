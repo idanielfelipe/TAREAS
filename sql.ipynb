{
  "nbformat": 4,
  "nbformat_minor": 0,
  "metadata": {
    "colab": {
      "provenance": [],
      "authorship_tag": "ABX9TyOS4Lzy9mb/f3HviHwEs6GK",
      "include_colab_link": true
    },
    "kernelspec": {
      "name": "python3",
      "display_name": "Python 3"
    },
    "language_info": {
      "name": "python"
    }
  },
  "cells": [
    {
      "cell_type": "markdown",
      "metadata": {
        "id": "view-in-github",
        "colab_type": "text"
      },
      "source": [
        "<a href=\"https://colab.research.google.com/github/idanielfelipe/TAREAS/blob/master/sql.ipynb\" target=\"_parent\"><img src=\"https://colab.research.google.com/assets/colab-badge.svg\" alt=\"Open In Colab\"/></a>"
      ]
    },
    {
      "cell_type": "code",
      "source": [
        "!pip install sqlmodel\n"
      ],
      "metadata": {
        "colab": {
          "base_uri": "https://localhost:8080/"
        },
        "id": "CiHBHdleUN6b",
        "outputId": "d421a057-fc0a-4d48-efa3-215f0799a8d6"
      },
      "execution_count": 3,
      "outputs": [
        {
          "output_type": "stream",
          "name": "stdout",
          "text": [
            "Collecting sqlmodel\n",
            "  Downloading sqlmodel-0.0.22-py3-none-any.whl.metadata (10 kB)\n",
            "Requirement already satisfied: SQLAlchemy<2.1.0,>=2.0.14 in /usr/local/lib/python3.10/dist-packages (from sqlmodel) (2.0.36)\n",
            "Requirement already satisfied: pydantic<3.0.0,>=1.10.13 in /usr/local/lib/python3.10/dist-packages (from sqlmodel) (2.9.2)\n",
            "Requirement already satisfied: annotated-types>=0.6.0 in /usr/local/lib/python3.10/dist-packages (from pydantic<3.0.0,>=1.10.13->sqlmodel) (0.7.0)\n",
            "Requirement already satisfied: pydantic-core==2.23.4 in /usr/local/lib/python3.10/dist-packages (from pydantic<3.0.0,>=1.10.13->sqlmodel) (2.23.4)\n",
            "Requirement already satisfied: typing-extensions>=4.6.1 in /usr/local/lib/python3.10/dist-packages (from pydantic<3.0.0,>=1.10.13->sqlmodel) (4.12.2)\n",
            "Requirement already satisfied: greenlet!=0.4.17 in /usr/local/lib/python3.10/dist-packages (from SQLAlchemy<2.1.0,>=2.0.14->sqlmodel) (3.1.1)\n",
            "Downloading sqlmodel-0.0.22-py3-none-any.whl (28 kB)\n",
            "Installing collected packages: sqlmodel\n",
            "Successfully installed sqlmodel-0.0.22\n"
          ]
        }
      ]
    },
    {
      "cell_type": "code",
      "source": [
        "from sqlmodel import SQLModel, Field, create_engine, Session, Relationship\n",
        "from typing import List, Optional\n",
        "\n",
        "# Modelo Administrador\n",
        "class Administrador(SQLModel, table=True):\n",
        "    id: Optional[int] = Field(default=None, primary_key=True)\n",
        "    administrador1: str\n",
        "    administrador2: str\n",
        "    administrador3: str\n",
        "    administrador4: str\n",
        "\n",
        "# Modelo Usuarios\n",
        "class Usuario(SQLModel, table=True):\n",
        "    id: Optional[int] = Field(default=None, primary_key=True)\n",
        "    nombre: str\n",
        "    correo: str\n",
        "    telefono: str\n",
        "    fecha_afiliacion: str\n",
        "    cita_proxima: Optional[str] = \"\"\n",
        "\n",
        "    citas: List[\"Cita\"] = Relationship(back_populates=\"usuario\")\n",
        "\n",
        "# Modelo MedicoEspecialista\n",
        "class MedicoEspecialista(SQLModel, table=True):\n",
        "    id: Optional[int] = Field(default=None, primary_key=True)\n",
        "    nombre: str\n",
        "    correo: str\n",
        "    telefono: str\n",
        "    area_especialidad: str\n",
        "\n",
        "    citas: List[\"Cita\"] = Relationship(back_populates=\"medico\")\n",
        "\n",
        "# Modelo Cita (tabla intermedia para Many-to-Many)\n",
        "class Cita(SQLModel, table=True):\n",
        "    id: Optional[int] = Field(default=None, primary_key=True)\n",
        "    usuario_id: int = Field(foreign_key=\"usuario.id\")\n",
        "    medico_id: int = Field(foreign_key=\"medicoespecialista.id\")\n",
        "    fecha: str\n",
        "    estado: str = \"Pendiente\"\n",
        "\n",
        "    usuario: Usuario = Relationship(back_populates=\"citas\")\n",
        "    medico: MedicoEspecialista = Relationship(back_populates=\"citas\")\n",
        "\n",
        "# Configuración de la base de datos\n",
        "sqlite_url = \"sqlite:///database.db\"\n",
        "engine = create_engine(sqlite_url, echo=True)\n",
        "\n",
        "# Crear las tablas en la base de datos\n",
        "SQLModel.metadata.create_all(engine)\n",
        "\n",
        "# Funciones CRUD\n",
        "def crear_datos_iniciales():\n",
        "    with Session(engine) as session:\n",
        "        # Crear usuarios\n",
        "        usuario1 = Usuario(nombre=\"Daniel\", correo=\"daniel1@gmail.com\", telefono=\"12345\", fecha_afiliacion=\"2024-01-01\")\n",
        "        usuario2 = Usuario(nombre=\"Ana\", correo=\"ana2@gmail.com\", telefono=\"67890\", fecha_afiliacion=\"2024-02-01\")\n",
        "\n",
        "        # Crear médicos especialistas\n",
        "        medico1 = MedicoEspecialista(nombre=\"Dr. Pérez\", correo=\"perez@gmail.com\", telefono=\"11111\", area_especialidad=\"Cardiología\")\n",
        "        medico2 = MedicoEspecialista(nombre=\"Dra. López\", correo=\"lopez@gmail.com\", telefono=\"22222\", area_especialidad=\"Neurología\")\n",
        "\n",
        "        # Añadir usuarios y médicos a la sesión\n",
        "        session.add_all([usuario1, usuario2, medico1, medico2])\n",
        "        session.commit()\n",
        "\n",
        "def asignar_cita(usuario_id: int, medico_id: int, fecha: str):\n",
        "    with Session(engine) as session:\n",
        "        cita = Cita(usuario_id=usuario_id, medico_id=medico_id, fecha=fecha)\n",
        "        session.add(cita)\n",
        "        session.commit()\n",
        "\n",
        "def obtener_citas():\n",
        "    with Session(engine) as session:\n",
        "        citas = session.query(Cita).all()\n",
        "        for cita in citas:\n",
        "            print(f\"Cita ID: {cita.id}\")\n",
        "            print(f\"Usuario: {cita.usuario.nombre} ({cita.usuario.correo})\")\n",
        "            print(f\"Médico: {cita.medico.nombre} - {cita.medico.area_especialidad}\")\n",
        "            print(f\"Fecha: {cita.fecha}\")\n",
        "            print(f\"Estado: {cita.estado}\")\n",
        "            print(\"----------\")\n",
        "\n",
        "# Ejecución\n",
        "crear_datos_iniciales()\n",
        "asignar_cita(usuario_id=1, medico_id=1, fecha=\"2024-12-31\")\n",
        "asignar_cita(usuario_id=2, medico_id=2, fecha=\"2025-01-15\")\n",
        "\n",
        "print(\"\\nCitas programadas:\")\n",
        "obtener_citas()\n"
      ],
      "metadata": {
        "colab": {
          "base_uri": "https://localhost:8080/"
        },
        "id": "4zlfZJVkUDZa",
        "outputId": "637d17fc-1449-4353-f9b5-d8dd28e10ee7"
      },
      "execution_count": 4,
      "outputs": [
        {
          "output_type": "stream",
          "name": "stdout",
          "text": [
            "2024-11-22 00:41:42,935 INFO sqlalchemy.engine.Engine BEGIN (implicit)\n"
          ]
        },
        {
          "output_type": "stream",
          "name": "stderr",
          "text": [
            "INFO:sqlalchemy.engine.Engine:BEGIN (implicit)\n"
          ]
        },
        {
          "output_type": "stream",
          "name": "stdout",
          "text": [
            "2024-11-22 00:41:42,950 INFO sqlalchemy.engine.Engine PRAGMA main.table_info(\"administrador\")\n"
          ]
        },
        {
          "output_type": "stream",
          "name": "stderr",
          "text": [
            "INFO:sqlalchemy.engine.Engine:PRAGMA main.table_info(\"administrador\")\n"
          ]
        },
        {
          "output_type": "stream",
          "name": "stdout",
          "text": [
            "2024-11-22 00:41:42,956 INFO sqlalchemy.engine.Engine [raw sql] ()\n"
          ]
        },
        {
          "output_type": "stream",
          "name": "stderr",
          "text": [
            "INFO:sqlalchemy.engine.Engine:[raw sql] ()\n"
          ]
        },
        {
          "output_type": "stream",
          "name": "stdout",
          "text": [
            "2024-11-22 00:41:42,962 INFO sqlalchemy.engine.Engine PRAGMA temp.table_info(\"administrador\")\n"
          ]
        },
        {
          "output_type": "stream",
          "name": "stderr",
          "text": [
            "INFO:sqlalchemy.engine.Engine:PRAGMA temp.table_info(\"administrador\")\n"
          ]
        },
        {
          "output_type": "stream",
          "name": "stdout",
          "text": [
            "2024-11-22 00:41:42,969 INFO sqlalchemy.engine.Engine [raw sql] ()\n"
          ]
        },
        {
          "output_type": "stream",
          "name": "stderr",
          "text": [
            "INFO:sqlalchemy.engine.Engine:[raw sql] ()\n"
          ]
        },
        {
          "output_type": "stream",
          "name": "stdout",
          "text": [
            "2024-11-22 00:41:42,988 INFO sqlalchemy.engine.Engine PRAGMA main.table_info(\"usuario\")\n"
          ]
        },
        {
          "output_type": "stream",
          "name": "stderr",
          "text": [
            "INFO:sqlalchemy.engine.Engine:PRAGMA main.table_info(\"usuario\")\n"
          ]
        },
        {
          "output_type": "stream",
          "name": "stdout",
          "text": [
            "2024-11-22 00:41:42,997 INFO sqlalchemy.engine.Engine [raw sql] ()\n"
          ]
        },
        {
          "output_type": "stream",
          "name": "stderr",
          "text": [
            "INFO:sqlalchemy.engine.Engine:[raw sql] ()\n"
          ]
        },
        {
          "output_type": "stream",
          "name": "stdout",
          "text": [
            "2024-11-22 00:41:43,008 INFO sqlalchemy.engine.Engine PRAGMA temp.table_info(\"usuario\")\n"
          ]
        },
        {
          "output_type": "stream",
          "name": "stderr",
          "text": [
            "INFO:sqlalchemy.engine.Engine:PRAGMA temp.table_info(\"usuario\")\n"
          ]
        },
        {
          "output_type": "stream",
          "name": "stdout",
          "text": [
            "2024-11-22 00:41:43,015 INFO sqlalchemy.engine.Engine [raw sql] ()\n"
          ]
        },
        {
          "output_type": "stream",
          "name": "stderr",
          "text": [
            "INFO:sqlalchemy.engine.Engine:[raw sql] ()\n"
          ]
        },
        {
          "output_type": "stream",
          "name": "stdout",
          "text": [
            "2024-11-22 00:41:43,021 INFO sqlalchemy.engine.Engine PRAGMA main.table_info(\"medicoespecialista\")\n"
          ]
        },
        {
          "output_type": "stream",
          "name": "stderr",
          "text": [
            "INFO:sqlalchemy.engine.Engine:PRAGMA main.table_info(\"medicoespecialista\")\n"
          ]
        },
        {
          "output_type": "stream",
          "name": "stdout",
          "text": [
            "2024-11-22 00:41:43,028 INFO sqlalchemy.engine.Engine [raw sql] ()\n"
          ]
        },
        {
          "output_type": "stream",
          "name": "stderr",
          "text": [
            "INFO:sqlalchemy.engine.Engine:[raw sql] ()\n"
          ]
        },
        {
          "output_type": "stream",
          "name": "stdout",
          "text": [
            "2024-11-22 00:41:43,039 INFO sqlalchemy.engine.Engine PRAGMA temp.table_info(\"medicoespecialista\")\n"
          ]
        },
        {
          "output_type": "stream",
          "name": "stderr",
          "text": [
            "INFO:sqlalchemy.engine.Engine:PRAGMA temp.table_info(\"medicoespecialista\")\n"
          ]
        },
        {
          "output_type": "stream",
          "name": "stdout",
          "text": [
            "2024-11-22 00:41:43,044 INFO sqlalchemy.engine.Engine [raw sql] ()\n"
          ]
        },
        {
          "output_type": "stream",
          "name": "stderr",
          "text": [
            "INFO:sqlalchemy.engine.Engine:[raw sql] ()\n"
          ]
        },
        {
          "output_type": "stream",
          "name": "stdout",
          "text": [
            "2024-11-22 00:41:43,052 INFO sqlalchemy.engine.Engine PRAGMA main.table_info(\"cita\")\n"
          ]
        },
        {
          "output_type": "stream",
          "name": "stderr",
          "text": [
            "INFO:sqlalchemy.engine.Engine:PRAGMA main.table_info(\"cita\")\n"
          ]
        },
        {
          "output_type": "stream",
          "name": "stdout",
          "text": [
            "2024-11-22 00:41:43,057 INFO sqlalchemy.engine.Engine [raw sql] ()\n"
          ]
        },
        {
          "output_type": "stream",
          "name": "stderr",
          "text": [
            "INFO:sqlalchemy.engine.Engine:[raw sql] ()\n"
          ]
        },
        {
          "output_type": "stream",
          "name": "stdout",
          "text": [
            "2024-11-22 00:41:43,067 INFO sqlalchemy.engine.Engine PRAGMA temp.table_info(\"cita\")\n"
          ]
        },
        {
          "output_type": "stream",
          "name": "stderr",
          "text": [
            "INFO:sqlalchemy.engine.Engine:PRAGMA temp.table_info(\"cita\")\n"
          ]
        },
        {
          "output_type": "stream",
          "name": "stdout",
          "text": [
            "2024-11-22 00:41:43,083 INFO sqlalchemy.engine.Engine [raw sql] ()\n"
          ]
        },
        {
          "output_type": "stream",
          "name": "stderr",
          "text": [
            "INFO:sqlalchemy.engine.Engine:[raw sql] ()\n"
          ]
        },
        {
          "output_type": "stream",
          "name": "stdout",
          "text": [
            "2024-11-22 00:41:43,106 INFO sqlalchemy.engine.Engine \n",
            "CREATE TABLE administrador (\n",
            "\tid INTEGER NOT NULL, \n",
            "\tadministrador1 VARCHAR NOT NULL, \n",
            "\tadministrador2 VARCHAR NOT NULL, \n",
            "\tadministrador3 VARCHAR NOT NULL, \n",
            "\tadministrador4 VARCHAR NOT NULL, \n",
            "\tPRIMARY KEY (id)\n",
            ")\n",
            "\n",
            "\n"
          ]
        },
        {
          "output_type": "stream",
          "name": "stderr",
          "text": [
            "INFO:sqlalchemy.engine.Engine:\n",
            "CREATE TABLE administrador (\n",
            "\tid INTEGER NOT NULL, \n",
            "\tadministrador1 VARCHAR NOT NULL, \n",
            "\tadministrador2 VARCHAR NOT NULL, \n",
            "\tadministrador3 VARCHAR NOT NULL, \n",
            "\tadministrador4 VARCHAR NOT NULL, \n",
            "\tPRIMARY KEY (id)\n",
            ")\n",
            "\n",
            "\n"
          ]
        },
        {
          "output_type": "stream",
          "name": "stdout",
          "text": [
            "2024-11-22 00:41:43,119 INFO sqlalchemy.engine.Engine [no key 0.01254s] ()\n"
          ]
        },
        {
          "output_type": "stream",
          "name": "stderr",
          "text": [
            "INFO:sqlalchemy.engine.Engine:[no key 0.01254s] ()\n"
          ]
        },
        {
          "output_type": "stream",
          "name": "stdout",
          "text": [
            "2024-11-22 00:41:43,149 INFO sqlalchemy.engine.Engine \n",
            "CREATE TABLE usuario (\n",
            "\tid INTEGER NOT NULL, \n",
            "\tnombre VARCHAR NOT NULL, \n",
            "\tcorreo VARCHAR NOT NULL, \n",
            "\ttelefono VARCHAR NOT NULL, \n",
            "\tfecha_afiliacion VARCHAR NOT NULL, \n",
            "\tcita_proxima VARCHAR, \n",
            "\tPRIMARY KEY (id)\n",
            ")\n",
            "\n",
            "\n"
          ]
        },
        {
          "output_type": "stream",
          "name": "stderr",
          "text": [
            "INFO:sqlalchemy.engine.Engine:\n",
            "CREATE TABLE usuario (\n",
            "\tid INTEGER NOT NULL, \n",
            "\tnombre VARCHAR NOT NULL, \n",
            "\tcorreo VARCHAR NOT NULL, \n",
            "\ttelefono VARCHAR NOT NULL, \n",
            "\tfecha_afiliacion VARCHAR NOT NULL, \n",
            "\tcita_proxima VARCHAR, \n",
            "\tPRIMARY KEY (id)\n",
            ")\n",
            "\n",
            "\n"
          ]
        },
        {
          "output_type": "stream",
          "name": "stdout",
          "text": [
            "2024-11-22 00:41:43,158 INFO sqlalchemy.engine.Engine [no key 0.00992s] ()\n"
          ]
        },
        {
          "output_type": "stream",
          "name": "stderr",
          "text": [
            "INFO:sqlalchemy.engine.Engine:[no key 0.00992s] ()\n"
          ]
        },
        {
          "output_type": "stream",
          "name": "stdout",
          "text": [
            "2024-11-22 00:41:43,181 INFO sqlalchemy.engine.Engine \n",
            "CREATE TABLE medicoespecialista (\n",
            "\tid INTEGER NOT NULL, \n",
            "\tnombre VARCHAR NOT NULL, \n",
            "\tcorreo VARCHAR NOT NULL, \n",
            "\ttelefono VARCHAR NOT NULL, \n",
            "\tarea_especialidad VARCHAR NOT NULL, \n",
            "\tPRIMARY KEY (id)\n",
            ")\n",
            "\n",
            "\n"
          ]
        },
        {
          "output_type": "stream",
          "name": "stderr",
          "text": [
            "INFO:sqlalchemy.engine.Engine:\n",
            "CREATE TABLE medicoespecialista (\n",
            "\tid INTEGER NOT NULL, \n",
            "\tnombre VARCHAR NOT NULL, \n",
            "\tcorreo VARCHAR NOT NULL, \n",
            "\ttelefono VARCHAR NOT NULL, \n",
            "\tarea_especialidad VARCHAR NOT NULL, \n",
            "\tPRIMARY KEY (id)\n",
            ")\n",
            "\n",
            "\n"
          ]
        },
        {
          "output_type": "stream",
          "name": "stdout",
          "text": [
            "2024-11-22 00:41:43,191 INFO sqlalchemy.engine.Engine [no key 0.00936s] ()\n"
          ]
        },
        {
          "output_type": "stream",
          "name": "stderr",
          "text": [
            "INFO:sqlalchemy.engine.Engine:[no key 0.00936s] ()\n"
          ]
        },
        {
          "output_type": "stream",
          "name": "stdout",
          "text": [
            "2024-11-22 00:41:43,221 INFO sqlalchemy.engine.Engine \n",
            "CREATE TABLE cita (\n",
            "\tid INTEGER NOT NULL, \n",
            "\tusuario_id INTEGER NOT NULL, \n",
            "\tmedico_id INTEGER NOT NULL, \n",
            "\tfecha VARCHAR NOT NULL, \n",
            "\testado VARCHAR NOT NULL, \n",
            "\tPRIMARY KEY (id), \n",
            "\tFOREIGN KEY(usuario_id) REFERENCES usuario (id), \n",
            "\tFOREIGN KEY(medico_id) REFERENCES medicoespecialista (id)\n",
            ")\n",
            "\n",
            "\n"
          ]
        },
        {
          "output_type": "stream",
          "name": "stderr",
          "text": [
            "INFO:sqlalchemy.engine.Engine:\n",
            "CREATE TABLE cita (\n",
            "\tid INTEGER NOT NULL, \n",
            "\tusuario_id INTEGER NOT NULL, \n",
            "\tmedico_id INTEGER NOT NULL, \n",
            "\tfecha VARCHAR NOT NULL, \n",
            "\testado VARCHAR NOT NULL, \n",
            "\tPRIMARY KEY (id), \n",
            "\tFOREIGN KEY(usuario_id) REFERENCES usuario (id), \n",
            "\tFOREIGN KEY(medico_id) REFERENCES medicoespecialista (id)\n",
            ")\n",
            "\n",
            "\n"
          ]
        },
        {
          "output_type": "stream",
          "name": "stdout",
          "text": [
            "2024-11-22 00:41:43,235 INFO sqlalchemy.engine.Engine [no key 0.01352s] ()\n"
          ]
        },
        {
          "output_type": "stream",
          "name": "stderr",
          "text": [
            "INFO:sqlalchemy.engine.Engine:[no key 0.01352s] ()\n"
          ]
        },
        {
          "output_type": "stream",
          "name": "stdout",
          "text": [
            "2024-11-22 00:41:43,252 INFO sqlalchemy.engine.Engine COMMIT\n"
          ]
        },
        {
          "output_type": "stream",
          "name": "stderr",
          "text": [
            "INFO:sqlalchemy.engine.Engine:COMMIT\n"
          ]
        },
        {
          "output_type": "stream",
          "name": "stdout",
          "text": [
            "2024-11-22 00:41:43,345 INFO sqlalchemy.engine.Engine BEGIN (implicit)\n"
          ]
        },
        {
          "output_type": "stream",
          "name": "stderr",
          "text": [
            "INFO:sqlalchemy.engine.Engine:BEGIN (implicit)\n"
          ]
        },
        {
          "output_type": "stream",
          "name": "stdout",
          "text": [
            "2024-11-22 00:41:43,356 INFO sqlalchemy.engine.Engine INSERT INTO medicoespecialista (nombre, correo, telefono, area_especialidad) VALUES (?, ?, ?, ?) RETURNING id\n"
          ]
        },
        {
          "output_type": "stream",
          "name": "stderr",
          "text": [
            "INFO:sqlalchemy.engine.Engine:INSERT INTO medicoespecialista (nombre, correo, telefono, area_especialidad) VALUES (?, ?, ?, ?) RETURNING id\n"
          ]
        },
        {
          "output_type": "stream",
          "name": "stdout",
          "text": [
            "2024-11-22 00:41:43,368 INFO sqlalchemy.engine.Engine [generated in 0.00026s (insertmanyvalues) 1/2 (ordered; batch not supported)] ('Dr. Pérez', 'perez@gmail.com', '11111', 'Cardiología')\n"
          ]
        },
        {
          "output_type": "stream",
          "name": "stderr",
          "text": [
            "INFO:sqlalchemy.engine.Engine:[generated in 0.00026s (insertmanyvalues) 1/2 (ordered; batch not supported)] ('Dr. Pérez', 'perez@gmail.com', '11111', 'Cardiología')\n"
          ]
        },
        {
          "output_type": "stream",
          "name": "stdout",
          "text": [
            "2024-11-22 00:41:43,377 INFO sqlalchemy.engine.Engine INSERT INTO medicoespecialista (nombre, correo, telefono, area_especialidad) VALUES (?, ?, ?, ?) RETURNING id\n"
          ]
        },
        {
          "output_type": "stream",
          "name": "stderr",
          "text": [
            "INFO:sqlalchemy.engine.Engine:INSERT INTO medicoespecialista (nombre, correo, telefono, area_especialidad) VALUES (?, ?, ?, ?) RETURNING id\n"
          ]
        },
        {
          "output_type": "stream",
          "name": "stdout",
          "text": [
            "2024-11-22 00:41:43,382 INFO sqlalchemy.engine.Engine [insertmanyvalues 2/2 (ordered; batch not supported)] ('Dra. López', 'lopez@gmail.com', '22222', 'Neurología')\n"
          ]
        },
        {
          "output_type": "stream",
          "name": "stderr",
          "text": [
            "INFO:sqlalchemy.engine.Engine:[insertmanyvalues 2/2 (ordered; batch not supported)] ('Dra. López', 'lopez@gmail.com', '22222', 'Neurología')\n"
          ]
        },
        {
          "output_type": "stream",
          "name": "stdout",
          "text": [
            "2024-11-22 00:41:43,392 INFO sqlalchemy.engine.Engine INSERT INTO usuario (nombre, correo, telefono, fecha_afiliacion, cita_proxima) VALUES (?, ?, ?, ?, ?) RETURNING id\n"
          ]
        },
        {
          "output_type": "stream",
          "name": "stderr",
          "text": [
            "INFO:sqlalchemy.engine.Engine:INSERT INTO usuario (nombre, correo, telefono, fecha_afiliacion, cita_proxima) VALUES (?, ?, ?, ?, ?) RETURNING id\n"
          ]
        },
        {
          "output_type": "stream",
          "name": "stdout",
          "text": [
            "2024-11-22 00:41:43,403 INFO sqlalchemy.engine.Engine [generated in 0.00026s (insertmanyvalues) 1/2 (ordered; batch not supported)] ('Daniel', 'daniel1@gmail.com', '12345', '2024-01-01', '')\n"
          ]
        },
        {
          "output_type": "stream",
          "name": "stderr",
          "text": [
            "INFO:sqlalchemy.engine.Engine:[generated in 0.00026s (insertmanyvalues) 1/2 (ordered; batch not supported)] ('Daniel', 'daniel1@gmail.com', '12345', '2024-01-01', '')\n"
          ]
        },
        {
          "output_type": "stream",
          "name": "stdout",
          "text": [
            "2024-11-22 00:41:43,409 INFO sqlalchemy.engine.Engine INSERT INTO usuario (nombre, correo, telefono, fecha_afiliacion, cita_proxima) VALUES (?, ?, ?, ?, ?) RETURNING id\n"
          ]
        },
        {
          "output_type": "stream",
          "name": "stderr",
          "text": [
            "INFO:sqlalchemy.engine.Engine:INSERT INTO usuario (nombre, correo, telefono, fecha_afiliacion, cita_proxima) VALUES (?, ?, ?, ?, ?) RETURNING id\n"
          ]
        },
        {
          "output_type": "stream",
          "name": "stdout",
          "text": [
            "2024-11-22 00:41:43,415 INFO sqlalchemy.engine.Engine [insertmanyvalues 2/2 (ordered; batch not supported)] ('Ana', 'ana2@gmail.com', '67890', '2024-02-01', '')\n"
          ]
        },
        {
          "output_type": "stream",
          "name": "stderr",
          "text": [
            "INFO:sqlalchemy.engine.Engine:[insertmanyvalues 2/2 (ordered; batch not supported)] ('Ana', 'ana2@gmail.com', '67890', '2024-02-01', '')\n"
          ]
        },
        {
          "output_type": "stream",
          "name": "stdout",
          "text": [
            "2024-11-22 00:41:43,427 INFO sqlalchemy.engine.Engine COMMIT\n"
          ]
        },
        {
          "output_type": "stream",
          "name": "stderr",
          "text": [
            "INFO:sqlalchemy.engine.Engine:COMMIT\n"
          ]
        },
        {
          "output_type": "stream",
          "name": "stdout",
          "text": [
            "2024-11-22 00:41:43,443 INFO sqlalchemy.engine.Engine BEGIN (implicit)\n"
          ]
        },
        {
          "output_type": "stream",
          "name": "stderr",
          "text": [
            "INFO:sqlalchemy.engine.Engine:BEGIN (implicit)\n"
          ]
        },
        {
          "output_type": "stream",
          "name": "stdout",
          "text": [
            "2024-11-22 00:41:43,450 INFO sqlalchemy.engine.Engine INSERT INTO cita (usuario_id, medico_id, fecha, estado) VALUES (?, ?, ?, ?)\n"
          ]
        },
        {
          "output_type": "stream",
          "name": "stderr",
          "text": [
            "INFO:sqlalchemy.engine.Engine:INSERT INTO cita (usuario_id, medico_id, fecha, estado) VALUES (?, ?, ?, ?)\n"
          ]
        },
        {
          "output_type": "stream",
          "name": "stdout",
          "text": [
            "2024-11-22 00:41:43,455 INFO sqlalchemy.engine.Engine [generated in 0.00477s] (1, 1, '2024-12-31', 'Pendiente')\n"
          ]
        },
        {
          "output_type": "stream",
          "name": "stderr",
          "text": [
            "INFO:sqlalchemy.engine.Engine:[generated in 0.00477s] (1, 1, '2024-12-31', 'Pendiente')\n"
          ]
        },
        {
          "output_type": "stream",
          "name": "stdout",
          "text": [
            "2024-11-22 00:41:43,462 INFO sqlalchemy.engine.Engine COMMIT\n"
          ]
        },
        {
          "output_type": "stream",
          "name": "stderr",
          "text": [
            "INFO:sqlalchemy.engine.Engine:COMMIT\n"
          ]
        },
        {
          "output_type": "stream",
          "name": "stdout",
          "text": [
            "2024-11-22 00:41:43,482 INFO sqlalchemy.engine.Engine BEGIN (implicit)\n"
          ]
        },
        {
          "output_type": "stream",
          "name": "stderr",
          "text": [
            "INFO:sqlalchemy.engine.Engine:BEGIN (implicit)\n"
          ]
        },
        {
          "output_type": "stream",
          "name": "stdout",
          "text": [
            "2024-11-22 00:41:43,485 INFO sqlalchemy.engine.Engine INSERT INTO cita (usuario_id, medico_id, fecha, estado) VALUES (?, ?, ?, ?)\n"
          ]
        },
        {
          "output_type": "stream",
          "name": "stderr",
          "text": [
            "INFO:sqlalchemy.engine.Engine:INSERT INTO cita (usuario_id, medico_id, fecha, estado) VALUES (?, ?, ?, ?)\n"
          ]
        },
        {
          "output_type": "stream",
          "name": "stdout",
          "text": [
            "2024-11-22 00:41:43,491 INFO sqlalchemy.engine.Engine [cached since 0.04065s ago] (2, 2, '2025-01-15', 'Pendiente')\n"
          ]
        },
        {
          "output_type": "stream",
          "name": "stderr",
          "text": [
            "INFO:sqlalchemy.engine.Engine:[cached since 0.04065s ago] (2, 2, '2025-01-15', 'Pendiente')\n"
          ]
        },
        {
          "output_type": "stream",
          "name": "stdout",
          "text": [
            "2024-11-22 00:41:43,497 INFO sqlalchemy.engine.Engine COMMIT\n"
          ]
        },
        {
          "output_type": "stream",
          "name": "stderr",
          "text": [
            "INFO:sqlalchemy.engine.Engine:COMMIT\n"
          ]
        },
        {
          "output_type": "stream",
          "name": "stdout",
          "text": [
            "\n",
            "Citas programadas:\n",
            "2024-11-22 00:41:43,547 INFO sqlalchemy.engine.Engine BEGIN (implicit)\n"
          ]
        },
        {
          "output_type": "stream",
          "name": "stderr",
          "text": [
            "<ipython-input-4-7c93134f23df>:74: DeprecationWarning: \n",
            "        🚨 You probably want to use `session.exec()` instead of `session.query()`.\n",
            "\n",
            "        `session.exec()` is SQLModel's own short version with increased type\n",
            "        annotations.\n",
            "\n",
            "        Or otherwise you might want to use `session.execute()` instead of\n",
            "        `session.query()`.\n",
            "        \n",
            "  citas = session.query(Cita).all()\n",
            "INFO:sqlalchemy.engine.Engine:BEGIN (implicit)\n"
          ]
        },
        {
          "output_type": "stream",
          "name": "stdout",
          "text": [
            "2024-11-22 00:41:43,555 INFO sqlalchemy.engine.Engine SELECT cita.id AS cita_id, cita.usuario_id AS cita_usuario_id, cita.medico_id AS cita_medico_id, cita.fecha AS cita_fecha, cita.estado AS cita_estado \n",
            "FROM cita\n"
          ]
        },
        {
          "output_type": "stream",
          "name": "stderr",
          "text": [
            "INFO:sqlalchemy.engine.Engine:SELECT cita.id AS cita_id, cita.usuario_id AS cita_usuario_id, cita.medico_id AS cita_medico_id, cita.fecha AS cita_fecha, cita.estado AS cita_estado \n",
            "FROM cita\n"
          ]
        },
        {
          "output_type": "stream",
          "name": "stdout",
          "text": [
            "2024-11-22 00:41:43,566 INFO sqlalchemy.engine.Engine [generated in 0.01163s] ()\n"
          ]
        },
        {
          "output_type": "stream",
          "name": "stderr",
          "text": [
            "INFO:sqlalchemy.engine.Engine:[generated in 0.01163s] ()\n"
          ]
        },
        {
          "output_type": "stream",
          "name": "stdout",
          "text": [
            "Cita ID: 1\n",
            "2024-11-22 00:41:43,585 INFO sqlalchemy.engine.Engine SELECT usuario.id AS usuario_id, usuario.nombre AS usuario_nombre, usuario.correo AS usuario_correo, usuario.telefono AS usuario_telefono, usuario.fecha_afiliacion AS usuario_fecha_afiliacion, usuario.cita_proxima AS usuario_cita_proxima \n",
            "FROM usuario \n",
            "WHERE usuario.id = ?\n"
          ]
        },
        {
          "output_type": "stream",
          "name": "stderr",
          "text": [
            "INFO:sqlalchemy.engine.Engine:SELECT usuario.id AS usuario_id, usuario.nombre AS usuario_nombre, usuario.correo AS usuario_correo, usuario.telefono AS usuario_telefono, usuario.fecha_afiliacion AS usuario_fecha_afiliacion, usuario.cita_proxima AS usuario_cita_proxima \n",
            "FROM usuario \n",
            "WHERE usuario.id = ?\n"
          ]
        },
        {
          "output_type": "stream",
          "name": "stdout",
          "text": [
            "2024-11-22 00:41:43,598 INFO sqlalchemy.engine.Engine [generated in 0.01331s] (1,)\n"
          ]
        },
        {
          "output_type": "stream",
          "name": "stderr",
          "text": [
            "INFO:sqlalchemy.engine.Engine:[generated in 0.01331s] (1,)\n"
          ]
        },
        {
          "output_type": "stream",
          "name": "stdout",
          "text": [
            "Usuario: Daniel (daniel1@gmail.com)\n",
            "2024-11-22 00:41:43,612 INFO sqlalchemy.engine.Engine SELECT medicoespecialista.id AS medicoespecialista_id, medicoespecialista.nombre AS medicoespecialista_nombre, medicoespecialista.correo AS medicoespecialista_correo, medicoespecialista.telefono AS medicoespecialista_telefono, medicoespecialista.area_especialidad AS medicoespecialista_area_especialidad \n",
            "FROM medicoespecialista \n",
            "WHERE medicoespecialista.id = ?\n"
          ]
        },
        {
          "output_type": "stream",
          "name": "stderr",
          "text": [
            "INFO:sqlalchemy.engine.Engine:SELECT medicoespecialista.id AS medicoespecialista_id, medicoespecialista.nombre AS medicoespecialista_nombre, medicoespecialista.correo AS medicoespecialista_correo, medicoespecialista.telefono AS medicoespecialista_telefono, medicoespecialista.area_especialidad AS medicoespecialista_area_especialidad \n",
            "FROM medicoespecialista \n",
            "WHERE medicoespecialista.id = ?\n"
          ]
        },
        {
          "output_type": "stream",
          "name": "stdout",
          "text": [
            "2024-11-22 00:41:43,627 INFO sqlalchemy.engine.Engine [generated in 0.01486s] (1,)\n"
          ]
        },
        {
          "output_type": "stream",
          "name": "stderr",
          "text": [
            "INFO:sqlalchemy.engine.Engine:[generated in 0.01486s] (1,)\n"
          ]
        },
        {
          "output_type": "stream",
          "name": "stdout",
          "text": [
            "Médico: Dr. Pérez - Cardiología\n",
            "Fecha: 2024-12-31\n",
            "Estado: Pendiente\n",
            "----------\n",
            "Cita ID: 2\n",
            "2024-11-22 00:41:43,637 INFO sqlalchemy.engine.Engine SELECT usuario.id AS usuario_id, usuario.nombre AS usuario_nombre, usuario.correo AS usuario_correo, usuario.telefono AS usuario_telefono, usuario.fecha_afiliacion AS usuario_fecha_afiliacion, usuario.cita_proxima AS usuario_cita_proxima \n",
            "FROM usuario \n",
            "WHERE usuario.id = ?\n"
          ]
        },
        {
          "output_type": "stream",
          "name": "stderr",
          "text": [
            "INFO:sqlalchemy.engine.Engine:SELECT usuario.id AS usuario_id, usuario.nombre AS usuario_nombre, usuario.correo AS usuario_correo, usuario.telefono AS usuario_telefono, usuario.fecha_afiliacion AS usuario_fecha_afiliacion, usuario.cita_proxima AS usuario_cita_proxima \n",
            "FROM usuario \n",
            "WHERE usuario.id = ?\n"
          ]
        },
        {
          "output_type": "stream",
          "name": "stdout",
          "text": [
            "2024-11-22 00:41:43,647 INFO sqlalchemy.engine.Engine [cached since 0.0628s ago] (2,)\n"
          ]
        },
        {
          "output_type": "stream",
          "name": "stderr",
          "text": [
            "INFO:sqlalchemy.engine.Engine:[cached since 0.0628s ago] (2,)\n"
          ]
        },
        {
          "output_type": "stream",
          "name": "stdout",
          "text": [
            "Usuario: Ana (ana2@gmail.com)\n",
            "2024-11-22 00:41:43,673 INFO sqlalchemy.engine.Engine SELECT medicoespecialista.id AS medicoespecialista_id, medicoespecialista.nombre AS medicoespecialista_nombre, medicoespecialista.correo AS medicoespecialista_correo, medicoespecialista.telefono AS medicoespecialista_telefono, medicoespecialista.area_especialidad AS medicoespecialista_area_especialidad \n",
            "FROM medicoespecialista \n",
            "WHERE medicoespecialista.id = ?\n"
          ]
        },
        {
          "output_type": "stream",
          "name": "stderr",
          "text": [
            "INFO:sqlalchemy.engine.Engine:SELECT medicoespecialista.id AS medicoespecialista_id, medicoespecialista.nombre AS medicoespecialista_nombre, medicoespecialista.correo AS medicoespecialista_correo, medicoespecialista.telefono AS medicoespecialista_telefono, medicoespecialista.area_especialidad AS medicoespecialista_area_especialidad \n",
            "FROM medicoespecialista \n",
            "WHERE medicoespecialista.id = ?\n"
          ]
        },
        {
          "output_type": "stream",
          "name": "stdout",
          "text": [
            "2024-11-22 00:41:43,677 INFO sqlalchemy.engine.Engine [cached since 0.06556s ago] (2,)\n"
          ]
        },
        {
          "output_type": "stream",
          "name": "stderr",
          "text": [
            "INFO:sqlalchemy.engine.Engine:[cached since 0.06556s ago] (2,)\n"
          ]
        },
        {
          "output_type": "stream",
          "name": "stdout",
          "text": [
            "Médico: Dra. López - Neurología\n",
            "Fecha: 2025-01-15\n",
            "Estado: Pendiente\n",
            "----------\n",
            "2024-11-22 00:41:43,688 INFO sqlalchemy.engine.Engine ROLLBACK\n"
          ]
        },
        {
          "output_type": "stream",
          "name": "stderr",
          "text": [
            "INFO:sqlalchemy.engine.Engine:ROLLBACK\n"
          ]
        }
      ]
    }
  ]
}