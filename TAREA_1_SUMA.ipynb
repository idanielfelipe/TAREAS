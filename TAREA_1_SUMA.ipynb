{
  "nbformat": 4,
  "nbformat_minor": 0,
  "metadata": {
    "colab": {
      "provenance": [],
      "authorship_tag": "ABX9TyN6wg9w9QBQyqBDpEf9fAYv",
      "include_colab_link": true
    },
    "kernelspec": {
      "name": "python3",
      "display_name": "Python 3"
    },
    "language_info": {
      "name": "python"
    }
  },
  "cells": [
    {
      "cell_type": "markdown",
      "metadata": {
        "id": "view-in-github",
        "colab_type": "text"
      },
      "source": [
        "<a href=\"https://colab.research.google.com/github/idanielfelipe/TAREAS/blob/master/TAREA_1_SUMA.ipynb\" target=\"_parent\"><img src=\"https://colab.research.google.com/assets/colab-badge.svg\" alt=\"Open In Colab\"/></a>"
      ]
    },
    {
      "cell_type": "code",
      "execution_count": 2,
      "metadata": {
        "colab": {
          "base_uri": "https://localhost:8080/"
        },
        "id": "D9ojXRWcKuiR",
        "outputId": "49247bd6-897c-42b5-9a4a-11f7662aebae"
      },
      "outputs": [
        {
          "output_type": "stream",
          "name": "stdout",
          "text": [
            "¡Hola! Bienvenido al programa de adición.\n",
            "Por favor, ingresa el primer valor: 1\n",
            "Por favor, ingresa el segundo valor: 1\n",
            "La adición de 1.0 y 1.0 es: 2.0\n"
          ]
        }
      ],
      "source": [
        "def ejercicio():\n",
        "\n",
        "    print(\"¡Hola! Bienvenido al programa de adición.\")\n",
        "\n",
        "    valor1 = float(input(\"Por favor, ingresa el primer valor: \"))\n",
        "\n",
        "    valor2 = float(input(\"Por favor, ingresa el segundo valor: \"))\n",
        "\n",
        "    resultado = valor1 + valor2\n",
        "\n",
        "    print(f\"La adición de {valor1} y {valor2} es: {resultado}\")\n",
        "if __name__ == \"__main__\":\n",
        "    ejercicio()\n",
        "\n"
      ]
    }
  ]
}