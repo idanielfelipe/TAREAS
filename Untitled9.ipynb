{
  "nbformat": 4,
  "nbformat_minor": 0,
  "metadata": {
    "colab": {
      "provenance": [],
      "authorship_tag": "ABX9TyMR5Njvzzn+vqjaSDDYY3PW",
      "include_colab_link": true
    },
    "kernelspec": {
      "name": "python3",
      "display_name": "Python 3"
    },
    "language_info": {
      "name": "python"
    }
  },
  "cells": [
    {
      "cell_type": "markdown",
      "metadata": {
        "id": "view-in-github",
        "colab_type": "text"
      },
      "source": [
        "<a href=\"https://colab.research.google.com/github/idanielfelipe/TAREAS/blob/master/Untitled9.ipynb\" target=\"_parent\"><img src=\"https://colab.research.google.com/assets/colab-badge.svg\" alt=\"Open In Colab\"/></a>"
      ]
    },
    {
      "cell_type": "code",
      "source": [
        "class Campoe:\n",
        "    def __init__(self, x1, y1, z1, q1):\n",
        "        self.x1 = x1\n",
        "        self.y1 = y1\n",
        "        self.z1 = z1\n",
        "        self.q1 = q1\n",
        "        self.magnitud = (x1**2 + y1**2 + z1**2) ** 0.5\n",
        "\n",
        "    def __repr__(self):\n",
        "        return f\"La dirección del campo está dada por: ({self.x1}, {self.y1}, {self.z1}) y su carga es: ({self.q1})\"\n",
        "\n",
        "    def __add__(self, other):\n",
        "        if isinstance(other, Campoe):\n",
        "            return Campoe(\n",
        "                self.x1 + other.x1,\n",
        "                self.y1 + other.y1,\n",
        "                self.z1 + other.z1,\n",
        "                self.q1 + other.q1,\n",
        "            )\n",
        "        return NotImplemented\n",
        "\n",
        "    def __sub__(self, other):\n",
        "        if isinstance(other, Campoe):\n",
        "            return Campoe(\n",
        "                self.x1 - other.x1,\n",
        "                self.y1 - other.y1,\n",
        "                self.z1 - other.z1,\n",
        "                self.q1 - other.q1,\n",
        "            )\n",
        "        return NotImplemented\n",
        "\n",
        "    def __mul__(self, scalar):\n",
        "        if isinstance(scalar, (int, float)):\n",
        "            return Campoe(\n",
        "                self.x1 * scalar,\n",
        "                self.y1 * scalar,\n",
        "                self.z1 * scalar,\n",
        "                self.q1 * scalar,\n",
        "            )\n",
        "        return NotImplemented\n",
        "\n",
        "    def __rmul__(self, scalar):\n",
        "        return self.__mul__(scalar)\n",
        "\n",
        "\n",
        "c1 = Campoe(1, 2, 3, 4)\n",
        "c2 = Campoe(5, 6, 7, 8)\n",
        "\n",
        "suma=c1+c2\n",
        "resta=c1-c2\n",
        "multiplo1=c1*3\n",
        "multiplo2=3*c2\n",
        "\n",
        "print(suma)\n",
        "print(resta)\n",
        "print(multiplo1)\n",
        "print(multiplo2)\n",
        "\n",
        "\n",
        "\n"
      ],
      "metadata": {
        "id": "pc6lp_MfFsr8",
        "colab": {
          "base_uri": "https://localhost:8080/"
        },
        "outputId": "446bf1aa-5392-4cdd-cb5f-5724f57a8d4f"
      },
      "execution_count": null,
      "outputs": [
        {
          "output_type": "stream",
          "name": "stdout",
          "text": [
            "La dirección del campo está dada por: (6, 8, 10) y su carga es: (12)\n",
            "La dirección del campo está dada por: (-4, -4, -4) y su carga es: (-4)\n",
            "La dirección del campo está dada por: (3, 6, 9) y su carga es: (12)\n",
            "La dirección del campo está dada por: (15, 18, 21) y su carga es: (24)\n"
          ]
        }
      ]
    },
    {
      "cell_type": "code",
      "source": [
        "import numpy as np\n",
        "\n",
        "class Campoe:\n",
        "    def __init__(self, x1, y1, z1, q1):\n",
        "        self.x1 = x1\n",
        "        self.y1 = y1\n",
        "        self.z1 = z1\n",
        "        self.q1 = q1\n",
        "        self.magnitud = (x1**2 + y1**2 + z1**2) ** 0.5\n",
        "\n",
        "    def __repr__(self):\n",
        "        return f\"La dirección del campo está dada por: ({self.x1}, {self.y1}, {self.z1}) y su carga es: ({self.q1})\"\n",
        "\n",
        "    def __add__(self, other):\n",
        "        if isinstance(other, Campoe):\n",
        "            return Campoe(\n",
        "                self.x1 + other.x1,\n",
        "                self.y1 + other.y1,\n",
        "                self.z1 + other.z1,\n",
        "                self.q1 + other.q1,\n",
        "            )\n",
        "        return NotImplemented\n",
        "\n",
        "    def __sub__(self, other):\n",
        "        if isinstance(other, Campoe):\n",
        "            return Campoe(\n",
        "                self.x1 - other.x1,\n",
        "                self.y1 - other.y1,\n",
        "                self.z1 - other.z1,\n",
        "                self.q1 - other.q1,\n",
        "            )\n",
        "        return NotImplemented\n",
        "\n",
        "    def __mul__(self, scalar):\n",
        "        if isinstance(scalar, (int, float)):\n",
        "            return Campoe(\n",
        "                self.x1 * scalar,\n",
        "                self.y1 * scalar,\n",
        "                self.z1 * scalar,\n",
        "                self.q1 * scalar,\n",
        "            )\n",
        "        return NotImplemented\n",
        "\n",
        "    def __rmul__(self, scalar):\n",
        "        return self.__mul__(scalar)\n",
        "\n",
        "    def campo_vectorial(self, X, Y, Z):\n",
        "        \"\"\"\n",
        "        Calcula el campo vectorial en función de las posiciones X, Y, Z.\n",
        "        \"\"\"\n",
        "        r = np.sqrt((X - self.x1)**2 + (Y - self.y1)**2 + (Z - self.z1)**2)\n",
        "        Fx = self.q1 * (X - self.x1) / r**3\n",
        "        Fy = self.q1 * (Y - self.y1) / r**3\n",
        "        Fz = self.q1 * (Z - self.z1) / r**3\n",
        "        return Fx, Fy, Fz\n",
        "\n",
        "    @staticmethod\n",
        "    def divergence(Fx, Fy, Fz, dx, dy, dz):\n",
        "        dFx_dx = (Fx[2:, 1:-1, 1:-1] - Fx[:-2, 1:-1, 1:-1]) / (2 * dx)\n",
        "        dFy_dy = (Fy[1:-1, 2:, 1:-1] - Fy[1:-1, :-2, 1:-1]) / (2 * dy)\n",
        "        dFz_dz = (Fz[1:-1, 1:-1, 2:] - Fz[1:-1, 1:-1, :-2]) / (2 * dz)\n",
        "        return dFx_dx + dFy_dy + dFz_dz\n",
        "\n",
        "# Crear un objeto Campoe con los parámetros (por ejemplo, una carga puntual)\n",
        "c1 = Campoe(1, 2, 3, 4)\n",
        "\n",
        "# Crear una malla en el espacio 3D\n",
        "x = np.linspace(0, 4, 50)\n",
        "y = np.linspace(0, 4, 50)\n",
        "z = np.linspace(0, 4, 50)\n",
        "X, Y, Z = np.meshgrid(x, y, z)\n",
        "\n",
        "# Calcular el campo vectorial en la malla\n",
        "Fx, Fy, Fz = c1.campo_vectorial(X, Y, Z)\n",
        "\n",
        "# Calcular la divergencia del campo vectorial\n",
        "dx = x[1] - x[0]\n",
        "dy = y[1] - y[0]\n",
        "dz = z[1] - z[0]\n",
        "div_F = Campoe.divergence(Fx, Fy, Fz, dx, dy, dz)\n",
        "\n",
        "# Visualizar la divergencia en una rebanada del espacio\n",
        "import matplotlib.pyplot as plt\n",
        "plt.contourf(X[1:-1, 1:-1, 25], Y[1:-1, 1:-1, 25], div_F[:, :, 25], cmap='coolwarm')\n",
        "plt.colorbar(label='Divergencia')\n",
        "plt.xlabel('x')\n",
        "plt.ylabel('y')\n",
        "plt.title('Divergencia del campo vectorial en z=3')\n",
        "plt.show()\n",
        "\n",
        "c1 = Campoe(1, 1, 1, 4)\n",
        "c2 = Campoe(5, 6, 7, 8)\n",
        "\n",
        "print(c1 + c2)\n",
        "print(c1 - c2)\n",
        "c3 = c1 * 3\n",
        "print(c3)\n",
        "c4 = 2 * c1\n",
        "print(c4)\n",
        "\n"
      ],
      "metadata": {
        "colab": {
          "base_uri": "https://localhost:8080/",
          "height": 541
        },
        "outputId": "3aa24bd7-75fb-4ee3-d6a4-642aab715588",
        "id": "wIeLrKMaYklp"
      },
      "execution_count": null,
      "outputs": [
        {
          "output_type": "display_data",
          "data": {
            "text/plain": [
              "<Figure size 640x480 with 2 Axes>"
            ],
            "image/png": "[encoded data removed]"
          },
          "metadata": {}
        },
        {
          "output_type": "stream",
          "name": "stdout",
          "text": [
            "La dirección del campo está dada por: (6, 7, 8) y su carga es: (12)\n",
            "La dirección del campo está dada por: (-4, -5, -6) y su carga es: (-4)\n",
            "La dirección del campo está dada por: (3, 3, 3) y su carga es: (12)\n",
            "La dirección del campo está dada por: (2, 2, 2) y su carga es: (8)\n"
          ]
        }
      ]
    },
    {
      "cell_type": "code",
      "source": [],
      "metadata": {
        "id": "1f1lQcKkSGVe"
      },
      "execution_count": null,
      "outputs": []
    }
  ]
}