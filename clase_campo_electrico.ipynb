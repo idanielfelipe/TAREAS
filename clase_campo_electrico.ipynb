{
  "nbformat": 4,
  "nbformat_minor": 0,
  "metadata": {
    "colab": {
      "provenance": [],
      "authorship_tag": "ABX9TyOxQffiIt6nx09+a4m0O8jx",
      "include_colab_link": true
    },
    "kernelspec": {
      "name": "python3",
      "display_name": "Python 3"
    },
    "language_info": {
      "name": "python"
    }
  },
  "cells": [
    {
      "cell_type": "markdown",
      "metadata": {
        "id": "view-in-github",
        "colab_type": "text"
      },
      "source": [
        "<a href=\"https://colab.research.google.com/github/idanielfelipe/TAREAS/blob/master/clase_campo_electrico.ipynb\" target=\"_parent\"><img src=\"https://colab.research.google.com/assets/colab-badge.svg\" alt=\"Open In Colab\"/></a>"
      ]
    },
    {
      "cell_type": "code",
      "execution_count": null,
      "metadata": {
        "id": "lwlApRVQZV7g",
        "colab": {
          "base_uri": "https://localhost:8080/"
        },
        "outputId": "37ddfbeb-015c-4a87-c5f6-c06407fad116"
      },
      "outputs": [
        {
          "output_type": "stream",
          "name": "stdout",
          "text": [
            "Diga la coordenada x: 1\n",
            "Diga la coordenada y: 1\n",
            "Diga la coordenada z: 1\n",
            "Ingrese la carga: 1\n",
            "El campo en x es 1.7320508075688778e-09 el campo en y es 1.7320508075688778e-09 el campo en z es 1.7320508075688778e-09\n"
          ]
        }
      ],
      "source": [
        "import math\n",
        "\n",
        "class Vector:\n",
        "    def __init__(self, x, y, z):\n",
        "        self.x = x\n",
        "        self.y = y\n",
        "        self.z = z\n",
        "\n",
        "    def magnitud(self):\n",
        "        resultado = math.sqrt(self.x**2 + self.y**2 + self.z**2)\n",
        "        return resultado\n",
        "\n",
        "class VectorUnitario:\n",
        "    def __init__(self, vector):\n",
        "        self.x = vector.x / vector.magnitud()\n",
        "        self.y = vector.y / vector.magnitud()\n",
        "        self.z = vector.z / vector.magnitud()\n",
        "\n",
        "class Campo:\n",
        "    def __init__(self):\n",
        "        x = float(input(\"Diga la coordenada x: \"))\n",
        "        y = float(input(\"Diga la coordenada y: \"))\n",
        "        z = float(input(\"Diga la coordenada z: \"))\n",
        "        self.vector = Vector(x, y, z)\n",
        "        self.carga = float(input(\"Ingrese la carga: \"))\n",
        "        self.k0 = 9 * (10**-9)\n",
        "        self.radio2 = self.vector.x**2 + self.vector.y**2 + self.vector.z**2\n",
        "\n",
        "    def direccion(self):\n",
        "        if not self.vector.x and not self.vector.y and not self.vector.z:\n",
        "            print(\"La dirección entre cero no está definida.\")\n",
        "        else:\n",
        "            vectorU = VectorUnitario(self.vector)\n",
        "            dirX = self.k0 * (self.carga / self.radio2) * vectorU.x\n",
        "            dirY = self.k0 * (self.carga / self.radio2) * vectorU.y\n",
        "            dirZ = self.k0 * (self.carga / self.radio2) * vectorU.z\n",
        "            print(\"El campo en x es\", dirX, \"el campo en y es\", dirY, \"el campo en z es\", dirZ)\n",
        "\n",
        "campo = Campo()\n",
        "campo.direccion()\n",
        "\n",
        "\n"
      ]
    },
    {
      "cell_type": "code",
      "source": [],
      "metadata": {
        "id": "ikY2Ga_65Xhs"
      },
      "execution_count": null,
      "outputs": []
    }
  ]
}