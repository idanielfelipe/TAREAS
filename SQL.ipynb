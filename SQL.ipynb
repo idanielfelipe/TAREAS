{
  "nbformat": 4,
  "nbformat_minor": 0,
  "metadata": {
    "colab": {
      "provenance": [],
      "include_colab_link": true
    },
    "kernelspec": {
      "name": "python3",
      "display_name": "Python 3"
    },
    "language_info": {
      "name": "python"
    }
  },
  "cells": [
    {
      "cell_type": "markdown",
      "metadata": {
        "id": "view-in-github",
        "colab_type": "text"
      },
      "source": [
        "<a href=\"https://colab.research.google.com/github/idanielfelipe/TAREAS/blob/master/SQL.ipynb\" target=\"_parent\"><img src=\"https://colab.research.google.com/assets/colab-badge.svg\" alt=\"Open In Colab\"/></a>"
      ]
    },
    {
      "cell_type": "markdown",
      "source": [
        "---------------------------------------------------------------------------------------------------------"
      ],
      "metadata": {
        "id": "YwEl2NNVwMgd"
      }
    },
    {
      "cell_type": "markdown",
      "source": [
        "**ejemplo**"
      ],
      "metadata": {
        "id": "hpPW_0UBwQdo"
      }
    },
    {
      "cell_type": "code",
      "execution_count": null,
      "metadata": {
        "colab": {
          "base_uri": "https://localhost:8080/"
        },
        "id": "uoEVTrpfvkJh",
        "outputId": "b63ae5c2-bd0a-4731-fa8f-7e47168a0c18",
        "collapsed": true
      },
      "outputs": [
        {
          "output_type": "stream",
          "name": "stdout",
          "text": [
            "Requirement already satisfied: SQLModel in /usr/local/lib/python3.10/dist-packages (0.0.18)\n",
            "Requirement already satisfied: SQLAlchemy<2.1.0,>=2.0.0 in /usr/local/lib/python3.10/dist-packages (from SQLModel) (2.0.30)\n",
            "Requirement already satisfied: pydantic<3.0.0,>=1.10.13 in /usr/local/lib/python3.10/dist-packages (from SQLModel) (2.7.1)\n",
            "Requirement already satisfied: annotated-types>=0.4.0 in /usr/local/lib/python3.10/dist-packages (from pydantic<3.0.0,>=1.10.13->SQLModel) (0.6.0)\n",
            "Requirement already satisfied: pydantic-core==2.18.2 in /usr/local/lib/python3.10/dist-packages (from pydantic<3.0.0,>=1.10.13->SQLModel) (2.18.2)\n",
            "Requirement already satisfied: typing-extensions>=4.6.1 in /usr/local/lib/python3.10/dist-packages (from pydantic<3.0.0,>=1.10.13->SQLModel) (4.11.0)\n",
            "Requirement already satisfied: greenlet!=0.4.17 in /usr/local/lib/python3.10/dist-packages (from SQLAlchemy<2.1.0,>=2.0.0->SQLModel) (3.0.3)\n"
          ]
        }
      ],
      "source": [
        "!pip install SQLModel\n"
      ]
    },
    {
      "cell_type": "markdown",
      "source": [
        "**creamos una pequña base de datos que tiene administradores,usuarios,medicos,medicos especialista y citas**"
      ],
      "metadata": {
        "id": "kFewMHkT0Dzo"
      }
    },
    {
      "cell_type": "markdown",
      "source": [
        "**despues decimos que daniel va al medico para solicitar que administrador1 le saque una cita medica para el 31-12-2024 con el dermatologo salome3**"
      ],
      "metadata": {
        "id": "3kunuMGES6NO"
      }
    },
    {
      "cell_type": "code",
      "source": [
        "from sqlmodel import SQLModel, Field, create_engine, Session, select\n",
        "\n",
        "# Definir el modelo Administrador con la clave principal `admin`\n",
        "class Administrador(SQLModel, table=True):\n",
        "    __table_args__ = {'extend_existing': True}\n",
        "    id: int = Field(default=None, primary_key=True)\n",
        "    administrador1: str\n",
        "    administrador2: str\n",
        "    administrador3: str\n",
        "    administrador4: str\n",
        "\n",
        "# Definir el modelo Usuarios\n",
        "class Usuarios(SQLModel, table=True):\n",
        "    __table_args__ = {'extend_existing': True}\n",
        "    id: int = Field(default=None, primary_key=True)\n",
        "    nombre: str\n",
        "    correo: str\n",
        "    telefono: str\n",
        "    fecha_afiliacion: str\n",
        "    cita_proxima: str = \"\"\n",
        "\n",
        "# Definir el modelo MedicosGenerales\n",
        "class MedicosGenerales(SQLModel, table=True):\n",
        "    __table_args__ = {'extend_existing': True}\n",
        "    id: int = Field(default=None, primary_key=True)\n",
        "    nombre: str\n",
        "    correo: str\n",
        "    telefono: str\n",
        "\n",
        "# Definir el modelo MedicosEspecialistas\n",
        "class MedicosEspecialistas(SQLModel, table=True):\n",
        "    __table_args__ = {'extend_existing': True}\n",
        "    id: int = Field(default=None, primary_key=True)\n",
        "    nombre: str\n",
        "    correo: str\n",
        "    telefono: str\n",
        "    cita_proxima: str\n",
        "    area_especialidad: str\n",
        "\n",
        "# Definir el modelo Citas\n",
        "class Citas(SQLModel, table=True):\n",
        "    __table_args__ = {'extend_existing': True}\n",
        "    id: int = Field(default=None, primary_key=True)\n",
        "    usuario_id: int\n",
        "    medico_id: int\n",
        "    fecha: str\n",
        "    estado: str = \"Pendiente\"\n",
        "\n",
        "# Crear una base de datos SQLite en memoria\n",
        "sqlite_url = \"sqlite:///database.db\"\n",
        "engine = create_engine(sqlite_url, echo=False)\n",
        "\n",
        "# Crear las tablas en la base de datos\n",
        "SQLModel.metadata.create_all(engine)\n",
        "\n",
        "# Insertar registros en la tabla Usuarios\n",
        "with Session(engine) as session:\n",
        "    usuario1 = Usuarios(nombre=\"Daniel1\", correo=\"daniel1@gmail.com\", telefono=\"12\", fecha_afiliacion=\"2024-05-19\")\n",
        "    usuario2 = Usuarios(nombre=\"Daniel2\", correo=\"daniel2@gmail.com\", telefono=\"23\", fecha_afiliacion=\"2024-05-19\")\n",
        "    usuario3 = Usuarios(nombre=\"Daniel3\", correo=\"daniel3@gmail.com\", telefono=\"45\", fecha_afiliacion=\"2024-05-19\")\n",
        "    usuario4 = Usuarios(nombre=\"Daniel4\", correo=\"daniel4@gmail.com\", telefono=\"56\", fecha_afiliacion=\"2024-05-19\")\n",
        "    session.add_all([usuario1, usuario2, usuario3, usuario4])\n",
        "    session.commit()\n",
        "\n",
        "# Insertar registros en la tabla MedicosGenerales\n",
        "with Session(engine) as session:\n",
        "    medico1 = MedicosGenerales(nombre=\"Medico1\", correo=\"medico1@gmail.com\", telefono=\"122\")\n",
        "    medico2 = MedicosGenerales(nombre=\"Medico2\", correo=\"medico2@gmail.com\", telefono=\"223\")\n",
        "    medico3 = MedicosGenerales(nombre=\"Medico3\", correo=\"medico3@gmail.com\", telefono=\"334\")\n",
        "    medico4 = MedicosGenerales(nombre=\"Medico4\", correo=\"medico4@gmail.com\", telefono=\"445\")\n",
        "    session.add_all([medico1, medico2, medico3, medico4])\n",
        "    session.commit()\n",
        "\n",
        "# Insertar registros en la tabla MedicosEspecialistas\n",
        "with Session(engine) as session:\n",
        "    cardiologo = MedicosEspecialistas(nombre=\"salome\", correo=\"cardiologo@gmail.com\", telefono=\"111\", cita_proxima=\"\", area_especialidad=\"Cardiología\")\n",
        "    nutricionista = MedicosEspecialistas(nombre=\"salome2\", correo=\"nutricionista@gmail.com\", telefono=\"222\", cita_proxima=\"\", area_especialidad=\"Nutrición\")\n",
        "    dermatologo = MedicosEspecialistas(nombre=\"salome3\", correo=\"dermatologo@gmail.com\", telefono=\"333\", cita_proxima=\"\", area_especialidad=\"Dermatología\")\n",
        "    cirujano = MedicosEspecialistas(nombre=\"salome4\", correo=\"cirujano@gmail.com\", telefono=\"444\", cita_proxima=\"\", area_especialidad=\"Cirugía\")\n",
        "    session.add_all([cardiologo, nutricionista, dermatologo, cirujano])\n",
        "    session.commit()\n",
        "\n",
        "# Asignar una cita a Daniel2 con el dermatólogo\n",
        "with Session(engine) as session:\n",
        "    # Obtener usuario Daniel2\n",
        "    usuario_daniel2 = session.exec(select(Usuarios).where(Usuarios.nombre == \"Daniel2\")).first()\n",
        "\n",
        "    # Obtener el dermatólogo\n",
        "    dermatologo = session.exec(select(MedicosEspecialistas).where(MedicosEspecialistas.area_especialidad == \"Dermatología\")).first()\n",
        "\n",
        "    # Crear la cita\n",
        "    cita = Citas(usuario_id=usuario_daniel2.id, medico_id=dermatologo.id, fecha=\"2024-12-31\")\n",
        "    session.add(cita)\n",
        "    session.commit()\n",
        "\n",
        "    # Consultar y imprimir los datos de Daniel2 y la cita\n",
        "    cita_daniel2 = session.exec(select(Citas).where(Citas.usuario_id == usuario_daniel2.id, Citas.medico_id == dermatologo.id)).first()\n",
        "\n",
        "    # Imprimir los datos\n",
        "    print(f\"Usuario: {usuario_daniel2.nombre}\")\n",
        "    print(f\"Correo: {usuario_daniel2.correo}\")\n",
        "    print(f\"Teléfono: {usuario_daniel2.telefono}\")\n",
        "    print(f\"Fecha de afiliación: {usuario_daniel2.fecha_afiliacion}\")\n",
        "    print(f\"Fecha de la cita: {cita_daniel2.fecha}\")\n",
        "    print(f\"Médico especialista: {dermatologo.nombre}\")\n",
        "    print(f\"Área de especialidad: {dermatologo.area_especialidad}\")\n"
      ],
      "metadata": {
        "colab": {
          "base_uri": "https://localhost:8080/",
          "height": 383
        },
        "id": "jCfwmvWYIOnG",
        "outputId": "2218ed8c-83d4-4e07-d992-9f11a70fdd56"
      },
      "execution_count": null,
      "outputs": [
        {
          "output_type": "error",
          "ename": "ModuleNotFoundError",
          "evalue": "No module named 'sqlmodel'",
          "traceback": [
            "\u001b[0;31m---------------------------------------------------------------------------\u001b[0m",
            "\u001b[0;31mModuleNotFoundError\u001b[0m                       Traceback (most recent call last)",
            "\u001b[0;32m<ipython-input-2-a5b5e532e15b>\u001b[0m in \u001b[0;36m<cell line: 1>\u001b[0;34m()\u001b[0m\n\u001b[0;32m----> 1\u001b[0;31m \u001b[0;32mfrom\u001b[0m \u001b[0msqlmodel\u001b[0m \u001b[0;32mimport\u001b[0m \u001b[0mSQLModel\u001b[0m\u001b[0;34m,\u001b[0m \u001b[0mField\u001b[0m\u001b[0;34m,\u001b[0m \u001b[0mcreate_engine\u001b[0m\u001b[0;34m,\u001b[0m \u001b[0mSession\u001b[0m\u001b[0;34m,\u001b[0m \u001b[0mselect\u001b[0m\u001b[0;34m\u001b[0m\u001b[0;34m\u001b[0m\u001b[0m\n\u001b[0m\u001b[1;32m      2\u001b[0m \u001b[0;34m\u001b[0m\u001b[0m\n\u001b[1;32m      3\u001b[0m \u001b[0;31m# Definir el modelo Administrador con la clave principal `admin`\u001b[0m\u001b[0;34m\u001b[0m\u001b[0;34m\u001b[0m\u001b[0m\n\u001b[1;32m      4\u001b[0m \u001b[0;32mclass\u001b[0m \u001b[0mAdministrador\u001b[0m\u001b[0;34m(\u001b[0m\u001b[0mSQLModel\u001b[0m\u001b[0;34m,\u001b[0m \u001b[0mtable\u001b[0m\u001b[0;34m=\u001b[0m\u001b[0;32mTrue\u001b[0m\u001b[0;34m)\u001b[0m\u001b[0;34m:\u001b[0m\u001b[0;34m\u001b[0m\u001b[0;34m\u001b[0m\u001b[0m\n\u001b[1;32m      5\u001b[0m     \u001b[0m__table_args__\u001b[0m \u001b[0;34m=\u001b[0m \u001b[0;34m{\u001b[0m\u001b[0;34m'extend_existing'\u001b[0m\u001b[0;34m:\u001b[0m \u001b[0;32mTrue\u001b[0m\u001b[0;34m}\u001b[0m\u001b[0;34m\u001b[0m\u001b[0;34m\u001b[0m\u001b[0m\n",
            "\u001b[0;31mModuleNotFoundError\u001b[0m: No module named 'sqlmodel'",
            "",
            "\u001b[0;31m---------------------------------------------------------------------------\u001b[0;32m\nNOTE: If your import is failing due to a missing package, you can\nmanually install dependencies using either !pip or !apt.\n\nTo view examples of installing some common dependencies, click the\n\"Open Examples\" button below.\n\u001b[0;31m---------------------------------------------------------------------------\u001b[0m\n"
          ],
          "errorDetails": {
            "actions": [
              {
                "action": "open_url",
                "actionText": "Open Examples",
                "url": "/notebooks/snippets/importing_libraries.ipynb"
              }
            ]
          }
        }
      ]
    },
    {
      "cell_type": "code",
      "source": [
        "!pip install sqlmodel\n",
        "\n",
        "from sqlmodel import SQLModel, Field, create_engine, Session, select\n",
        "\n",
        "# Definir el modelo Administrador con la clave principal `admin`\n",
        "class Administrador(SQLModel, table=True):\n",
        "    __table_args__ = {'extend_existing': True}\n",
        "    id: int = Field(default=None, primary_key=True)\n",
        "    administrador1: str\n",
        "    administrador2: str\n",
        "    administrador3: str\n",
        "    administrador4: str\n",
        "\n",
        "# Definir el modelo Usuarios\n",
        "class Usuarios(SQLModel, table=True):\n",
        "    __table_args__ = {'extend_existing': True}\n",
        "    id: int = Field(default=None, primary_key=True)\n",
        "    nombre: str\n",
        "    correo: str\n",
        "    telefono: str\n",
        "    fecha_afiliacion: str\n",
        "    cita_proxima: str = \"\"\n",
        "\n",
        "# Definir el modelo MedicosGenerales\n",
        "class MedicosGenerales(SQLModel, table=True):\n",
        "    __table_args__ = {'extend_existing': True}\n",
        "    id: int = Field(default=None, primary_key=True)\n",
        "    nombre: str\n",
        "    correo: str\n",
        "    telefono: str\n",
        "\n",
        "# Definir el modelo MedicosEspecialistas\n",
        "class MedicosEspecialistas(SQLModel, table=True):\n",
        "    __table_args__ = {'extend_existing': True}\n",
        "    id: int = Field(default=None, primary_key=True)\n",
        "    nombre: str\n",
        "    correo: str\n",
        "    telefono: str\n",
        "    cita_proxima: str\n",
        "    area_especialidad: str\n",
        "\n",
        "# Definir el modelo Citas\n",
        "class Citas(SQLModel, table=True):\n",
        "    __table_args__ = {'extend_existing': True}\n",
        "    id: int = Field(default=None, primary_key=True)\n",
        "    usuario_id: int\n",
        "    medico_id: int\n",
        "    fecha: str\n",
        "    estado: str = \"Pendiente\"\n",
        "\n",
        "# Crear una base de datos SQLite en memoria\n",
        "sqlite_url = \"sqlite:///database.db\"\n",
        "engine = create_engine(sqlite_url, echo=False)\n",
        "\n",
        "# Crear las tablas en la base de datos\n",
        "SQLModel.metadata.create_all(engine)\n",
        "\n",
        "# Insertar registros en la tabla Usuarios\n",
        "with Session(engine) as session:\n",
        "    usuario1 = Usuarios(nombre=\"Daniel1\", correo=\"daniel1@gmail.com\", telefono=\"12\", fecha_afiliacion=\"2024-05-19\")\n",
        "    usuario2 = Usuarios(nombre=\"Daniel2\", correo=\"daniel2@gmail.com\", telefono=\"23\", fecha_afiliacion=\"2024-05-19\")\n",
        "    usuario3 = Usuarios(nombre=\"Daniel3\", correo=\"daniel3@gmail.com\", telefono=\"45\", fecha_afiliacion=\"2024-05-19\")\n",
        "    usuario4 = Usuarios(nombre=\"Daniel4\", correo=\"daniel4@gmail.com\", telefono=\"56\", fecha_afiliacion=\"2024-05-19\")\n",
        "    session.add_all([usuario1, usuario2, usuario3, usuario4])\n",
        "    session.commit()\n",
        "\n",
        "# Insertar registros en la tabla MedicosGenerales\n",
        "with Session(engine) as session:\n",
        "    medico1 = MedicosGenerales(nombre=\"Medico1\", correo=\"medico1@gmail.com\", telefono=\"122\")\n",
        "    medico2 = MedicosGenerales(nombre=\"Medico2\", correo=\"medico2@gmail.com\", telefono=\"223\")\n",
        "    medico3 = MedicosGenerales(nombre=\"Medico3\", correo=\"medico3@gmail.com\", telefono=\"334\")\n",
        "    medico4 = MedicosGenerales(nombre=\"Medico4\", correo=\"medico4@gmail.com\", telefono=\"445\")\n",
        "    session.add_all([medico1, medico2, medico3, medico4])\n",
        "    session.commit()\n",
        "\n",
        "# Insertar registros en la tabla MedicosEspecialistas\n",
        "with Session(engine) as session:\n",
        "    cardiologo = MedicosEspecialistas(nombre=\"salome\", correo=\"cardiologo@gmail.com\", telefono=\"111\", cita_proxima=\"\", area_especialidad=\"Cardiología\")\n",
        "    nutricionista = MedicosEspecialistas(nombre=\"salome2\", correo=\"nutricionista@gmail.com\", telefono=\"222\", cita_proxima=\"\", area_especialidad=\"Nutrición\")\n",
        "    dermatologo = MedicosEspecialistas(nombre=\"salome3\", correo=\"dermatologo@gmail.com\", telefono=\"333\", cita_proxima=\"\", area_especialidad=\"Dermatología\")\n",
        "    cirujano = MedicosEspecialistas(nombre=\"salome4\", correo=\"cirujano@gmail.com\", telefono=\"444\", cita_proxima=\"\", area_especialidad=\"Cirugía\")\n",
        "    session.add_all([cardiologo, nutricionista, dermatologo, cirujano])\n",
        "    session.commit()\n",
        "\n",
        "# Asignar una cita a Daniel2 con el dermatólogo\n",
        "with Session(engine) as session:\n",
        "    # Obtener usuario Daniel2\n",
        "    usuario_daniel2 = session.exec(select(Usuarios).where(Usuarios.nombre == \"Daniel2\")).first()\n",
        "\n",
        "    # Obtener el dermatólogo\n",
        "    dermatologo = session.exec(select(MedicosEspecialistas).where(MedicosEspecialistas.area_especialidad == \"Dermatología\")).first()\n",
        "\n",
        "    # Crear la cita\n",
        "    cita = Citas(usuario_id=usuario_daniel2.id, medico_id=dermatologo.id, fecha=\"2024-12-31\")\n",
        "    session.add(cita)\n",
        "    session.commit()\n",
        "\n",
        "    # Consultar y imprimir los datos de Daniel2 y la cita\n",
        "    cita_daniel2 = session.exec(select(Citas).where(Citas.usuario_id == usuario_daniel2.id, Citas.medico_id == dermatologo.id)).first()\n",
        "\n",
        "    # Imprimir los datos\n",
        "    print(f\"Usuario: {usuario_daniel2.nombre}\")\n",
        "    print(f\"Correo: {usuario_daniel2.correo}\")\n",
        "    print(f\"Teléfono: {usuario_daniel2.telefono}\")\n",
        "    print(f\"Fecha de afiliación: {usuario_daniel2.fecha_afiliacion}\")\n",
        "    print(f\"Fecha de la cita: {cita_daniel2.fecha}\")\n",
        "    print(f\"Médico especialista: {dermatologo.nombre}\")\n",
        "    print(f\"Área de especialidad: {dermatologo.area_especialidad}\")\n"
      ],
      "metadata": {
        "colab": {
          "base_uri": "https://localhost:8080/"
        },
        "id": "3ieE4jFhDkkN",
        "outputId": "83013d3d-24d5-4040-8ad0-2b1e6edb9d19"
      },
      "execution_count": null,
      "outputs": [
        {
          "output_type": "stream",
          "name": "stdout",
          "text": [
            "Collecting sqlmodel\n",
            "  Downloading sqlmodel-0.0.21-py3-none-any.whl.metadata (9.8 kB)\n",
            "Requirement already satisfied: SQLAlchemy<2.1.0,>=2.0.14 in /usr/local/lib/python3.10/dist-packages (from sqlmodel) (2.0.32)\n",
            "Requirement already satisfied: pydantic<3.0.0,>=1.10.13 in /usr/local/lib/python3.10/dist-packages (from sqlmodel) (2.8.2)\n",
            "Requirement already satisfied: annotated-types>=0.4.0 in /usr/local/lib/python3.10/dist-packages (from pydantic<3.0.0,>=1.10.13->sqlmodel) (0.7.0)\n",
            "Requirement already satisfied: pydantic-core==2.20.1 in /usr/local/lib/python3.10/dist-packages (from pydantic<3.0.0,>=1.10.13->sqlmodel) (2.20.1)\n",
            "Requirement already satisfied: typing-extensions>=4.6.1 in /usr/local/lib/python3.10/dist-packages (from pydantic<3.0.0,>=1.10.13->sqlmodel) (4.12.2)\n",
            "Requirement already satisfied: greenlet!=0.4.17 in /usr/local/lib/python3.10/dist-packages (from SQLAlchemy<2.1.0,>=2.0.14->sqlmodel) (3.0.3)\n",
            "Downloading sqlmodel-0.0.21-py3-none-any.whl (28 kB)\n",
            "Installing collected packages: sqlmodel\n",
            "Successfully installed sqlmodel-0.0.21\n",
            "Usuario: Daniel2\n",
            "Correo: daniel2@gmail.com\n",
            "Teléfono: 23\n",
            "Fecha de afiliación: 2024-05-19\n",
            "Fecha de la cita: 2024-12-31\n",
            "Médico especialista: salome3\n",
            "Área de especialidad: Dermatología\n"
          ]
        }
      ]
    },
    {
      "cell_type": "markdown",
      "source": [
        "**ahora decimos que daniel3 quiere sacar su sita medica desde la clase cita y no desde administrador, la cita la quiere para el 31-12-2024 con el cirujano salome4**"
      ],
      "metadata": {
        "id": "uC45QPhkTGPh"
      }
    },
    {
      "cell_type": "code",
      "source": [
        "# Asignar una cita a Daniel3 con el cirujano\n",
        "with Session(engine) as session:\n",
        "    # Obtener usuario Daniel3\n",
        "    usuario_daniel3 = session.exec(select(Usuarios).where(Usuarios.nombre == \"Daniel3\")).first()\n",
        "\n",
        "    # Obtener el cirujano\n",
        "    cirujano = session.exec(select(MedicosEspecialistas).where(MedicosEspecialistas.area_especialidad == \"Cirugía\")).first()\n",
        "\n",
        "    # Crear la cita\n",
        "    cita = Citas(usuario_id=usuario_daniel3.id, medico_id=cirujano.id, fecha=\"2024-12-31\")\n",
        "    session.add(cita)\n",
        "    session.commit()\n",
        "\n",
        "    # Consultar y imprimir los datos de Daniel3 y la cita\n",
        "    cita_daniel3 = session.exec(select(Citas).where(Citas.usuario_id == usuario_daniel3.id, Citas.medico_id == cirujano.id)).first()\n",
        "\n",
        "    # Imprimir los datos\n",
        "    print(f\"Usuario: {usuario_daniel3.nombre}\")\n",
        "    print(f\"Correo: {usuario_daniel3.correo}\")\n",
        "    print(f\"Teléfono: {usuario_daniel3.telefono}\")\n",
        "    print(f\"Fecha de afiliación: {usuario_daniel3.fecha_afiliacion}\")\n",
        "    print(f\"Fecha de la cita: {cita_daniel3.fecha}\")\n",
        "    print(f\"Médico especialista: salome4\")\n",
        "    print(f\"Área de especialidad: {cirujano.area_especialidad}\")"
      ],
      "metadata": {
        "colab": {
          "base_uri": "https://localhost:8080/"
        },
        "id": "QpjeKnd4Tmvy",
        "outputId": "8df840b8-cb31-46b9-c229-baeb9e5d529e"
      },
      "execution_count": null,
      "outputs": [
        {
          "output_type": "stream",
          "name": "stdout",
          "text": [
            "Usuario: Daniel3\n",
            "Correo: daniel3@gmail.com\n",
            "Teléfono: 45\n",
            "Fecha de afiliación: 2024-05-19\n",
            "Fecha de la cita: 2024-12-31\n",
            "Médico especialista: salome4\n",
            "Área de especialidad: Cirugía\n"
          ]
        }
      ]
    },
    {
      "cell_type": "markdown",
      "source": [
        "----------------------------------SQL --------------------------"
      ],
      "metadata": {
        "id": "Bcu-yU-9XDSO"
      }
    },
    {
      "cell_type": "code",
      "source": [
        "-- Crear la tabla Administrador\n",
        "CREATE TABLE administrador (\n",
        "    admin INTEGER PRIMARY KEY,\n",
        "    administrador1 TEXT,\n",
        "    administrador2 TEXT,\n",
        "    administrador3 TEXT,\n",
        "    administrador4 TEXT\n",
        ");\n",
        "\n",
        "-- Crear la tabla Usuarios\n",
        "CREATE TABLE usuarios (\n",
        "    nombre TEXT,\n",
        "    correo TEXT,\n",
        "    telefono TEXT,\n",
        "    fecha_afiliacion TEXT,\n",
        "    cita_proxima TEXT\n",
        ");\n",
        "\n",
        "-- Crear la tabla MedicosGenerales\n",
        "CREATE TABLE medicos_generales (\n",
        "    nombre TEXT,\n",
        "    correo TEXT,\n",
        "    telefono TEXT\n",
        ");\n",
        "\n",
        "-- Crear la tabla MedicosEspecialistas\n",
        "CREATE TABLE medicos_especialistas (\n",
        "    nombre TEXT,\n",
        "    correo TEXT,\n",
        "    telefono TEXT,\n",
        "    cita_proxima TEXT,\n",
        "    area_especialidad TEXT\n",
        ");\n",
        "\n",
        "-- Crear la tabla Citas\n",
        "CREATE TABLE citas (\n",
        "    usuario_id INTEGER,\n",
        "    medico_id INTEGER,\n",
        "    fecha TEXT,\n",
        "    estado TEXT,\n",
        "    FOREIGN KEY (usuario_id) REFERENCES usuarios(id),\n",
        "    FOREIGN KEY (medico_id) REFERENCES medicos_especialistas(id)\n",
        ");\n",
        "\n",
        "-- Insertar registros en la tabla Usuarios\n",
        "INSERT INTO usuarios (nombre, correo, telefono, fecha_afiliacion)\n",
        "VALUES\n",
        "    ('Daniel1', 'daniel1@gmail.com', '12', '2024-05-19'),\n",
        "    ('Daniel2', 'daniel2@gmail.com', '23', '2024-05-19'),\n",
        "    ('Daniel3', 'daniel3@gmail.com', '45', '2024-05-19'),\n",
        "    ('Daniel4', 'daniel4@gmail.com', '56', '2024-05-19');\n",
        "\n",
        "-- Insertar registros en la tabla MedicosGenerales\n",
        "INSERT INTO medicos_generales (nombre, correo, telefono)\n",
        "VALUES\n",
        "    ('Medico1', 'medico1@gmail.com', '122'),\n",
        "    ('Medico2', 'medico2@gmail.com', '223'),\n",
        "    ('Medico3', 'medico3@gmail.com', '334'),\n",
        "    ('Medico4', 'medico4@gmail.com', '445');\n",
        "\n",
        "-- Insertar registros en la tabla MedicosEspecialistas\n",
        "INSERT INTO medicos_especialistas (nombre, correo, telefono, cita_proxima, area_especialidad)\n",
        "VALUES\n",
        "    ('salome', 'cardiologo@gmail.com', '111', '', 'Cardiología'),\n",
        "    ('salome2', 'nutricionista@gmail.com', '222', '', 'Nutrición'),\n",
        "    ('salome3', 'dermatologo@gmail.com', '333', '', 'Dermatología'),\n",
        "    ('salome4', 'cirujano@gmail.com', '444', '', 'Cirugía');\n",
        "\n",
        "-- Asignar una cita a Daniel2 con el dermatólogo\n",
        "INSERT INTO citas (usuario_id, medico_id, fecha)\n",
        "SELECT\n",
        "    u.id AS usuario_id,\n",
        "    m.id AS medico_id,\n",
        "    '2024-12-31' AS fecha\n",
        "FROM\n",
        "    usuarios u\n",
        "JOIN\n",
        "    medicos_especialistas m ON m.area_especialidad = 'Dermatología'\n",
        "WHERE\n",
        "    u.nombre = 'Daniel2';\n"
      ],
      "metadata": {
        "id": "-KkK4ggsXFVM"
      },
      "execution_count": null,
      "outputs": []
    },
    {
      "cell_type": "markdown",
      "source": [
        "-------------------------------sqllite para manipular la base sql con sql desde python ----------------------"
      ],
      "metadata": {
        "id": "bqgJMhVwZfuM"
      }
    },
    {
      "cell_type": "code",
      "source": [
        "import sqlite3\n",
        "\n",
        "# Conectar a la base de datos SQLite (en memoria)\n",
        "conn = sqlite3.connect(':memory:')\n",
        "\n",
        "# Crear un cursor para ejecutar comandos SQL\n",
        "cursor = conn.cursor()\n",
        "\n",
        "# Ejecutar el código SQL para crear tablas, insertar registros, etc.\n",
        "cursor.executescript('''\n",
        "    -- Crear la tabla Usuarios\n",
        "    CREATE TABLE usuarios (\n",
        "        id INTEGER PRIMARY KEY,\n",
        "        nombre TEXT,\n",
        "        correo TEXT,\n",
        "        telefono TEXT,\n",
        "        fecha_afiliacion TEXT,\n",
        "        cita_proxima TEXT\n",
        "    );\n",
        "\n",
        "    -- Crear la tabla MedicosEspecialistas\n",
        "    CREATE TABLE medicos_especialistas (\n",
        "        id INTEGER PRIMARY KEY,\n",
        "        nombre TEXT,\n",
        "        correo TEXT,\n",
        "        telefono TEXT,\n",
        "        cita_proxima TEXT,\n",
        "        area_especialidad TEXT\n",
        "    );\n",
        "\n",
        "    -- Crear la tabla Citas\n",
        "    CREATE TABLE citas (\n",
        "        id INTEGER PRIMARY KEY,\n",
        "        usuario_id INTEGER,\n",
        "        medico_id INTEGER,\n",
        "        fecha TEXT,\n",
        "        estado TEXT,\n",
        "        FOREIGN KEY (usuario_id) REFERENCES usuarios(id),\n",
        "        FOREIGN KEY (medico_id) REFERENCES medicos_especialistas(id)\n",
        "    );\n",
        "\n",
        "    -- Insertar registros en la tabla Usuarios\n",
        "    INSERT INTO usuarios (nombre, correo, telefono, fecha_afiliacion)\n",
        "    VALUES\n",
        "        ('Daniel1', 'daniel1@gmail.com', '12', '2024-05-19'),\n",
        "        ('Daniel2', 'daniel2@gmail.com', '23', '2024-05-19'),\n",
        "        ('Daniel3', 'daniel3@gmail.com', '45', '2024-05-19'),\n",
        "        ('Daniel4', 'daniel4@gmail.com', '56', '2024-05-19');\n",
        "\n",
        "    -- Insertar registros en la tabla MedicosEspecialistas\n",
        "    INSERT INTO medicos_especialistas (nombre, correo, telefono, cita_proxima, area_especialidad)\n",
        "    VALUES\n",
        "        ('salome', 'cardiologo@gmail.com', '111', '', 'Cardiología'),\n",
        "        ('salome2', 'nutricionista@gmail.com', '222', '', 'Nutrición'),\n",
        "        ('salome3', 'dermatologo@gmail.com', '333', '', 'Dermatología'),\n",
        "        ('salome4', 'cirujano@gmail.com', '444', '', 'Cirugía');\n",
        "''')\n",
        "\n",
        "# Guardar los cambios\n",
        "conn.commit()\n",
        "\n",
        "# Asignar una cita a Daniel3 con el cirujano\n",
        "cursor.execute('''\n",
        "    -- Obtener usuario Daniel3\n",
        "    SELECT * FROM usuarios WHERE nombre = 'Daniel3';\n",
        "''')\n",
        "usuario_daniel3 = cursor.fetchone()\n",
        "\n",
        "# Obtener el cirujano\n",
        "cursor.execute('''\n",
        "    SELECT * FROM medicos_especialistas WHERE area_especialidad = 'Cirugía';\n",
        "''')\n",
        "cirujano = cursor.fetchone()\n",
        "\n",
        "# Crear la cita\n",
        "cursor.execute('''\n",
        "    INSERT INTO citas (usuario_id, medico_id, fecha, estado) VALUES (?, ?, ?, ?);\n",
        "''', (usuario_daniel3[0], cirujano[0], '2024-12-31', 'Pendiente'))\n",
        "\n",
        "# Consultar y imprimir los datos de Daniel3 y la cita\n",
        "cursor.execute('''\n",
        "    SELECT * FROM citas WHERE usuario_id = ? AND medico_id = ?;\n",
        "''', (usuario_daniel3[0], cirujano[0]))\n",
        "cita_daniel3 = cursor.fetchone()\n",
        "\n",
        "# Imprimir los datos\n",
        "print(f\"Usuario: {usuario_daniel3[1]}\")\n",
        "print(f\"Correo: {usuario_daniel3[2]}\")\n",
        "print(f\"Teléfono: {usuario_daniel3[3]}\")\n",
        "print(f\"Fecha de afiliación: {usuario_daniel3[4]}\")\n",
        "print(f\"Fecha de la cita: {cita_daniel3[3]}\")\n",
        "print(f\"Médico especialista: {cirujano[1]}\")\n",
        "print(f\"Área de especialidad: {cirujano[5]}\")\n",
        "\n",
        "# Cerrar la conexión\n",
        "conn.close()\n"
      ],
      "metadata": {
        "colab": {
          "base_uri": "https://localhost:8080/"
        },
        "id": "Q-VFF1fgYRyX",
        "outputId": "13297673-55a8-498b-d687-db7612a8ea8b"
      },
      "execution_count": null,
      "outputs": [
        {
          "output_type": "stream",
          "name": "stdout",
          "text": [
            "Usuario: Daniel3\n",
            "Correo: daniel3@gmail.com\n",
            "Teléfono: 45\n",
            "Fecha de afiliación: 2024-05-19\n",
            "Fecha de la cita: 2024-12-31\n",
            "Médico especialista: salome4\n",
            "Área de especialidad: Cirugía\n"
          ]
        }
      ]
    }
  ]
}